{
  "nbformat": 4,
  "nbformat_minor": 0,
  "metadata": {
    "colab": {
      "provenance": [],
      "authorship_tag": "ABX9TyPVmPlY3KS1mX2pGXcOmap6",
      "include_colab_link": true
    },
    "kernelspec": {
      "name": "python3",
      "display_name": "Python 3"
    },
    "language_info": {
      "name": "python"
    }
  },
  "cells": [
    {
      "cell_type": "markdown",
      "metadata": {
        "id": "view-in-github",
        "colab_type": "text"
      },
      "source": [
        "<a href=\"https://colab.research.google.com/github/shuntaroakiyama/birkenstock/blob/second/stock_chk.ipynb\" target=\"_parent\"><img src=\"https://colab.research.google.com/assets/colab-badge.svg\" alt=\"Open In Colab\"/></a>"
      ]
    },
    {
      "cell_type": "code",
      "source": [
        "import requests\n",
        "from bs4 import BeautifulSoup\n",
        "import smtplib\n",
        "from email.mime.text import MIMEText\n",
        "from email.mime.multipart import MIMEMultipart\n",
        "\n",
        "# ✅ チェックするページURL（ナローのサイズ23cm）\n",
        "url = \"https://www.birkenstock.com/jp/boston-suede-leather/boston-core-suedeleather-0-evarubber-u_27.html?dwvar_boston-core-suedeleather-0-evarubber-u__27_width=S&dwvar_boston-core-suedeleather-0-evarubber-u__27_size=23&region=JP\"\n",
        "\n",
        "# Gmailの設定\n",
        "GMAIL_USER = \"okasidaisuki0102@gmail.com\"\n",
        "GMAIL_APP_PASSWORD = \"qnwg jpir etuo vady\"  # 16桁のアプリパスワード\n",
        "\n",
        "# ✅ 在庫チェック関数（HTMLを解析）\n",
        "def check_stock():\n",
        "    response = requests.get(url)\n",
        "    soup = BeautifulSoup(response.text, \"html.parser\")\n",
        "\n",
        "    # ✅ <div class=\"availability-web\"> の中を取得\n",
        "    availability_section = soup.find(\"div\", class_=\"availability-web\")\n",
        "\n",
        "    # ✅ \"在庫あり\" のテキストを含むか確認\n",
        "    if availability_section and availability_section.find(\"p\", class_=\"in-stock-msg\"):\n",
        "        print(\"🎉 幅ナローのサイズ23が復活！メール通知を送信します。\")\n",
        "        send_email(\"【在庫あり】Birkenstock サイズ23（幅ナロー）入荷\", f\"在庫が復活しました！今すぐチェック: {url}\")\n",
        "    else:\n",
        "        print(\"❌ 在庫なし。\")\n",
        "\n",
        "# ✅ メール送信関数\n",
        "def send_email(subject, body):\n",
        "    recipient = GMAIL_USER\n",
        "\n",
        "    msg = MIMEMultipart()\n",
        "    msg[\"From\"] = GMAIL_USER\n",
        "    msg[\"To\"] = recipient\n",
        "    msg[\"Subject\"] = subject\n",
        "    msg.attach(MIMEText(body, \"plain\", \"utf-8\"))\n",
        "\n",
        "    with smtplib.SMTP_SSL(\"smtp.gmail.com\", 465) as server:\n",
        "        server.login(GMAIL_USER, GMAIL_APP_PASSWORD)\n",
        "        server.sendmail(GMAIL_USER, recipient, msg.as_string())\n",
        "\n",
        "    print(\"✅ メール通知送信完了\")\n",
        "\n",
        "# ✅ スクリプト実行\n",
        "check_stock()\n"
      ],
      "metadata": {
        "colab": {
          "base_uri": "https://localhost:8080/"
        },
        "id": "TdLnvP0NoN_H",
        "outputId": "af7b0270-2036-498e-9fca-a9a9d75fc923"
      },
      "execution_count": 12,
      "outputs": [
        {
          "output_type": "stream",
          "name": "stdout",
          "text": [
            "❌ 在庫なし。\n"
          ]
        }
      ]
    }
  ]
}