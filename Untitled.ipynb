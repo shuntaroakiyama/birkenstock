{
  "nbformat": 4,
  "nbformat_minor": 0,
  "metadata": {
    "colab": {
      "provenance": [],
      "authorship_tag": "ABX9TyM/vyr1zTsBeYX6+GkT991E",
      "include_colab_link": true
    },
    "kernelspec": {
      "name": "python3",
      "display_name": "Python 3"
    },
    "language_info": {
      "name": "python"
    }
  },
  "cells": [
    {
      "cell_type": "markdown",
      "metadata": {
        "id": "view-in-github",
        "colab_type": "text"
      },
      "source": [
        "<a href=\"https://colab.research.google.com/github/shuntaroakiyama/birkenstock/blob/second/Untitled.ipynb\" target=\"_parent\"><img src=\"https://colab.research.google.com/assets/colab-badge.svg\" alt=\"Open In Colab\"/></a>"
      ]
    },
    {
      "cell_type": "code",
      "execution_count": null,
      "metadata": {
        "colab": {
          "base_uri": "https://localhost:8080/"
        },
        "id": "GnPGb4Fk9lYU",
        "outputId": "b5356db4-ce4b-480d-f5da-546e1f13b074"
      },
      "outputs": [
        {
          "output_type": "stream",
          "name": "stdout",
          "text": [
            "Requirement already satisfied: beautifulsoup4 in /usr/local/lib/python3.11/dist-packages (4.12.3)\n",
            "Requirement already satisfied: requests in /usr/local/lib/python3.11/dist-packages (2.32.3)\n",
            "Requirement already satisfied: soupsieve>1.2 in /usr/local/lib/python3.11/dist-packages (from beautifulsoup4) (2.6)\n",
            "Requirement already satisfied: charset-normalizer<4,>=2 in /usr/local/lib/python3.11/dist-packages (from requests) (3.4.1)\n",
            "Requirement already satisfied: idna<4,>=2.5 in /usr/local/lib/python3.11/dist-packages (from requests) (3.10)\n",
            "Requirement already satisfied: urllib3<3,>=1.21.1 in /usr/local/lib/python3.11/dist-packages (from requests) (2.3.0)\n",
            "Requirement already satisfied: certifi>=2017.4.17 in /usr/local/lib/python3.11/dist-packages (from requests) (2024.12.14)\n"
          ]
        }
      ],
      "source": [
        "!pip install beautifulsoup4 requests"
      ]
    },
    {
      "cell_type": "code",
      "source": [
        "import requests\n",
        "from bs4 import BeautifulSoup\n",
        "import smtplib\n",
        "from email.mime.text import MIMEText\n",
        "from email.mime.multipart import MIMEMultipart\n",
        "\n",
        "# 在庫チェックするURL\n",
        "url = \"https://www.birkenstock.com/jp/boston-suede-leather/boston-core-suedeleather-0-evarubber-u_27.html?dwvar_boston-core-suedeleather-0-evarubber-u__27_width=S&dwvar_boston-core-suedeleather-0-evarubber-u__27_size=23\"\n",
        "\n",
        "# 在庫のキーワード\n",
        "IN_STOCK_TEXT = \"カートに追加\"\n",
        "\n",
        "# Gmailの設定\n",
        "GMAIL_USER = \"okasidaisuki0102@gmail.com\"\n",
        "GMAIL_APP_PASSWORD = \"qnwg jpir etuo vady\"  # 16桁のアプリパスワード\n",
        "\n",
        "def send_email(subject, body):\n",
        "    recipient = GMAIL_USER\n",
        "\n",
        "    # 日本語を含むメールを送るためにMIMETextを使用\n",
        "    msg = MIMEMultipart()\n",
        "    msg[\"From\"] = GMAIL_USER\n",
        "    msg[\"To\"] = recipient\n",
        "    msg[\"Subject\"] = subject\n",
        "\n",
        "    # 本文をUTF-8でエンコード\n",
        "    msg.attach(MIMEText(body, \"plain\", \"utf-8\"))\n",
        "\n",
        "    # GmailのSMTPサーバーを使用してメールを送信\n",
        "    with smtplib.SMTP_SSL(\"smtp.gmail.com\", 465) as server:\n",
        "        server.login(GMAIL_USER, GMAIL_APP_PASSWORD)\n",
        "        server.sendmail(GMAIL_USER, recipient, msg.as_string())\n",
        "\n",
        "    print(\"✅ メール通知送信完了\")\n",
        "\n",
        "# 在庫チェック関数\n",
        "def check_stock():\n",
        "    response = requests.get(url)\n",
        "    soup = BeautifulSoup(response.text, \"html.parser\")\n",
        "\n",
        "    if IN_STOCK_TEXT in soup.text:\n",
        "        print(\"🎉 在庫あり！通知を送信します。\")\n",
        "        send_email(\"【在庫あり】Birkenstock サイズ23入荷\", f\"在庫が入りました！今すぐチェック: {url}\")\n",
        "    else:\n",
        "        print(\"❌ 在庫なし。\")\n",
        "\n",
        "# 実行\n",
        "check_stock()\n"
      ],
      "metadata": {
        "colab": {
          "base_uri": "https://localhost:8080/"
        },
        "id": "MuNTQiw793AQ",
        "outputId": "ff6cc84b-8992-47f3-975f-2748e58cf4a9"
      },
      "execution_count": null,
      "outputs": [
        {
          "output_type": "stream",
          "name": "stdout",
          "text": [
            "🎉 在庫あり！通知を送信します。\n",
            "✅ メール通知送信完了\n"
          ]
        }
      ]
    },
    {
      "cell_type": "code",
      "source": [
        "import requests\n",
        "from bs4 import BeautifulSoup\n",
        "import smtplib\n",
        "from email.mime.text import MIMEText\n",
        "from email.mime.multipart import MIMEMultipart\n",
        "\n",
        "# ✅ チェックするページURL（幅ナローのサイズ23cm）\n",
        "url = \"https://www.birkenstock.com/jp/boston-suede-leather/boston-core-suedeleather-0-evarubber-u_27.html?dwvar_boston-core-suedeleather-0-evarubber-u__27_width=S&dwvar_boston-core-suedeleather-0-evarubber-u__27_size=23\"\n",
        "\n",
        "# Gmailの設定\n",
        "GMAIL_USER = \"okasidaisuki0102@gmail.com\"\n",
        "GMAIL_APP_PASSWORD = \"qnwg jpir etuo vady\"  # 16桁のアプリパスワード\n",
        "\n",
        "# ✅ 在庫チェック関数（HTMLを解析）\n",
        "def check_stock():\n",
        "    response = requests.get(url)\n",
        "    soup = BeautifulSoup(response.text, \"html.parser\")\n",
        "\n",
        "    # ✅ 「サイズ23・幅ナロー」のボタンを探す\n",
        "    size_button = soup.find(\"button\", {\"name\": \"dwvar_boston-core-suedeleather-0-evarubber-u__27_size\", \"value\": \"23\"})\n",
        "\n",
        "    # ✅ ボタンが存在し、かつ `disabled` ではない場合は在庫ありと判定\n",
        "    if size_button and \"disabled\" not in size_button.attrs:\n",
        "        print(\"🎉 幅ナローのサイズ23が復活！通知を送信します。\")\n",
        "        send_email(\"【在庫あり】Birkenstock サイズ23（幅ナロー）入荷\", f\"在庫が復活しました！今すぐチェック: {url}\")\n",
        "    else:\n",
        "        print(\"❌ 在庫なし。\")\n",
        "\n",
        "# ✅ メール送信関数\n",
        "def send_email(subject, body):\n",
        "    recipient = GMAIL_USER\n",
        "\n",
        "    msg = MIMEMultipart()\n",
        "    msg[\"From\"] = GMAIL_USER\n",
        "    msg[\"To\"] = recipient\n",
        "    msg[\"Subject\"] = subject\n",
        "    msg.attach(MIMEText(body, \"plain\", \"utf-8\"))\n",
        "\n",
        "    with smtplib.SMTP_SSL(\"smtp.gmail.com\", 465) as server:\n",
        "        server.login(GMAIL_USER, GMAIL_APP_PASSWORD)\n",
        "        server.sendmail(GMAIL_USER, recipient, msg.as_string())\n",
        "\n",
        "    print(\"✅ メール通知送信完了\")\n",
        "\n",
        "# ✅ スクリプト実行\n",
        "check_stock()\n"
      ],
      "metadata": {
        "colab": {
          "base_uri": "https://localhost:8080/"
        },
        "id": "Q4uZjKD2UAhf",
        "outputId": "744bc369-bdc8-4364-85bc-eec79976f5e3"
      },
      "execution_count": null,
      "outputs": [
        {
          "output_type": "stream",
          "name": "stdout",
          "text": [
            "❌ 在庫なし。\n"
          ]
        }
      ]
    },
    {
      "cell_type": "code",
      "source": [
        "import requests\n",
        "from bs4 import BeautifulSoup\n",
        "import smtplib\n",
        "from email.mime.text import MIMEText\n",
        "from email.mime.multipart import MIMEMultipart\n",
        "\n",
        "# ✅ チェックするページURL（ナローのサイズ23cm）\n",
        "url = \"https://www.birkenstock.com/jp/boston-suede-leather/boston-core-suedeleather-0-evarubber-u_27.html?dwvar_boston-core-suedeleather-0-evarubber-u__27_width=S&dwvar_boston-core-suedeleather-0-evarubber-u__27_size=23&region=JP\"\n",
        "\n",
        "# Gmailの設定\n",
        "GMAIL_USER = \"okasidaisuki0102@gmail.com\"\n",
        "GMAIL_APP_PASSWORD = \"qnwg jpir etuo vady\"  # 16桁のアプリパスワード\n",
        "\n",
        "# ✅ 在庫チェック関数（HTMLを解析）\n",
        "def check_stock():\n",
        "    response = requests.get(url)\n",
        "    soup = BeautifulSoup(response.text, \"html.parser\")\n",
        "\n",
        "    # ✅ <div class=\"availability-web\"> の中を取得\n",
        "    availability_section = soup.find(\"div\", class_=\"availability-web\")\n",
        "\n",
        "    # ✅ \"在庫あり\" のテキストを含むか確認\n",
        "    if availability_section and availability_section.find(\"p\", class_=\"in-stock-msg\"):\n",
        "        print(\"🎉 幅ナローのサイズ23が復活！メール通知を送信します。\")\n",
        "        send_email(\"【在庫あり】Birkenstock サイズ23（幅ナロー）入荷\", f\"在庫が復活しました！今すぐチェック: {url}\")\n",
        "    else:\n",
        "        print(\"❌ 在庫なし。\")\n",
        "\n",
        "# ✅ メール送信関数\n",
        "def send_email(subject, body):\n",
        "    recipient = GMAIL_USER\n",
        "\n",
        "    msg = MIMEMultipart()\n",
        "    msg[\"From\"] = GMAIL_USER\n",
        "    msg[\"To\"] = recipient\n",
        "    msg[\"Subject\"] = subject\n",
        "    msg.attach(MIMEText(body, \"plain\", \"utf-8\"))\n",
        "\n",
        "    with smtplib.SMTP_SSL(\"smtp.gmail.com\", 465) as server:\n",
        "        server.login(GMAIL_USER, GMAIL_APP_PASSWORD)\n",
        "        server.sendmail(GMAIL_USER, recipient, msg.as_string())\n",
        "\n",
        "    print(\"✅ メール通知送信完了\")\n",
        "\n",
        "# ✅ スクリプト実行\n",
        "check_stock()\n"
      ],
      "metadata": {
        "colab": {
          "base_uri": "https://localhost:8080/"
        },
        "id": "TdLnvP0NoN_H",
        "outputId": "af7b0270-2036-498e-9fca-a9a9d75fc923"
      },
      "execution_count": 12,
      "outputs": [
        {
          "output_type": "stream",
          "name": "stdout",
          "text": [
            "❌ 在庫なし。\n"
          ]
        }
      ]
    },
    {
      "cell_type": "code",
      "source": [
        "echo \"# birkenstock\" >> README.md\n",
        "git init\n",
        "git add README.md\n",
        "git commit -m \"first commit\"\n",
        "git branch -M main\n",
        "git remote add origin https://github.com/shuntaroakiyama/birkenstock.git\n",
        "git push -u origin main"
      ],
      "metadata": {
        "colab": {
          "base_uri": "https://localhost:8080/",
          "height": 106
        },
        "id": "KSl7O0L36BsS",
        "outputId": "9db50a4f-734a-4372-c9fd-185def613471"
      },
      "execution_count": 13,
      "outputs": [
        {
          "output_type": "error",
          "ename": "SyntaxError",
          "evalue": "invalid syntax (<ipython-input-13-6a614336816e>, line 1)",
          "traceback": [
            "\u001b[0;36m  File \u001b[0;32m\"<ipython-input-13-6a614336816e>\"\u001b[0;36m, line \u001b[0;32m1\u001b[0m\n\u001b[0;31m    echo \"# birkenstock\" >> README.md\u001b[0m\n\u001b[0m         ^\u001b[0m\n\u001b[0;31mSyntaxError\u001b[0m\u001b[0;31m:\u001b[0m invalid syntax\n"
          ]
        }
      ]
    }
  ]
}